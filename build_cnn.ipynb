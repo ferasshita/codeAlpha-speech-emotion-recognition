{
 "cells": [
  {
   "cell_type": "raw",
   "metadata": {},
   "source": [
    "Filename identifiers \n",
    "\n",
    "Modality (01 = full-AV, 02 = video-only, 03 = audio-only).\n",
    "Vocal channel (01 = speech, 02 = song).\n",
    "Emotion (01 = neutral, 02 = calm, 03 = happy, 04 = sad, 05 = angry, 06 = fearful, 07 = disgust, 08 = surprised).\n",
    "Emotional intensity (01 = normal, 02 = strong). NOTE: There is no strong intensity for the ‘neutral’ emotion.\n",
    "Statement (01 = “Kids are talking by the door”, 02 = “Dogs are sitting by the door”).\n",
    "Repetition (01 = 1st repetition, 02 = 2nd repetition).\n",
    "Actor (01 to 24. Odd numbered actors are male, even numbered actors are female)."
   ]
  },
  {
   "cell_type": "code",
   "execution_count": 11,
   "metadata": {},
   "outputs": [],
   "source": [
    "import numpy as np\n",
    "import pandas as pd\n",
    "import librosa\n",
    "from tqdm import tqdm\n",
    "from keras.utils import to_categorical\n",
    "from keras.models import Sequential\n",
    "from keras.layers import Conv2D, MaxPool2D, Flatten, Dropout, Dense\n",
    "from sklearn.utils.class_weight import compute_class_weight\n",
    "from sklearn.metrics import confusion_matrix\n",
    "import seaborn as sns\n",
    "import matplotlib.pyplot as plt\n",
    "import pickle\n",
    "\n",
    "\n",
    "%matplotlib inline"
   ]
  },
  {
   "cell_type": "code",
   "execution_count": 3,
   "metadata": {},
   "outputs": [],
   "source": [
    "file_properties = pd.read_csv('complete_index.csv')"
   ]
  },
  {
   "cell_type": "code",
   "execution_count": 18,
   "metadata": {},
   "outputs": [
    {
     "data": {
      "text/plain": [
       "159.51497127739987"
      ]
     },
     "execution_count": 18,
     "metadata": {},
     "output_type": "execute_result"
    }
   ],
   "source": [
    "file_properties['length'].sum() / 60"
   ]
  },
  {
   "cell_type": "code",
   "execution_count": 4,
   "metadata": {},
   "outputs": [
    {
     "name": "stderr",
     "output_type": "stream",
     "text": [
      "/Users/alex/anaconda3/lib/python3.7/site-packages/pandas/core/frame.py:3940: SettingWithCopyWarning: \n",
      "A value is trying to be set on a copy of a slice from a DataFrame\n",
      "\n",
      "See the caveats in the documentation: http://pandas.pydata.org/pandas-docs/stable/indexing.html#indexing-view-versus-copy\n",
      "  errors=errors)\n"
     ]
    }
   ],
   "source": [
    "train = file_properties[file_properties['set'] == 'train']\n",
    "# val = file_properties[file_properties['set'] == 'validation']\n",
    "test = file_properties[file_properties['set'] == 'test']\n",
    "train.drop('Unnamed: 0', inplace = True, axis = 1)\n",
    "# val.drop('Unnamed: 0', inplace = True, axis = 1)\n",
    "test.drop('Unnamed: 0', inplace = True, axis = 1)"
   ]
  },
  {
   "cell_type": "code",
   "execution_count": 5,
   "metadata": {},
   "outputs": [
    {
     "data": {
      "text/html": [
       "<div>\n",
       "<style scoped>\n",
       "    .dataframe tbody tr th:only-of-type {\n",
       "        vertical-align: middle;\n",
       "    }\n",
       "\n",
       "    .dataframe tbody tr th {\n",
       "        vertical-align: top;\n",
       "    }\n",
       "\n",
       "    .dataframe thead th {\n",
       "        text-align: right;\n",
       "    }\n",
       "</style>\n",
       "<table border=\"1\" class=\"dataframe\">\n",
       "  <thead>\n",
       "    <tr style=\"text-align: right;\">\n",
       "      <th></th>\n",
       "      <th>dataset</th>\n",
       "      <th>filename</th>\n",
       "      <th>actor</th>\n",
       "      <th>emotion</th>\n",
       "      <th>length</th>\n",
       "      <th>gender</th>\n",
       "      <th>set</th>\n",
       "    </tr>\n",
       "  </thead>\n",
       "  <tbody>\n",
       "    <tr>\n",
       "      <th>1010</th>\n",
       "      <td>RAVDESS</td>\n",
       "      <td>clean/RAVDESS/Actor_09/03-01-04-01-01-01-09.wav</td>\n",
       "      <td>09</td>\n",
       "      <td>sad</td>\n",
       "      <td>0.449977</td>\n",
       "      <td>male</td>\n",
       "      <td>test</td>\n",
       "    </tr>\n",
       "  </tbody>\n",
       "</table>\n",
       "</div>"
      ],
      "text/plain": [
       "      dataset                                         filename actor emotion  \\\n",
       "1010  RAVDESS  clean/RAVDESS/Actor_09/03-01-04-01-01-01-09.wav    09     sad   \n",
       "\n",
       "        length gender   set  \n",
       "1010  0.449977   male  test  "
      ]
     },
     "execution_count": 5,
     "metadata": {},
     "output_type": "execute_result"
    }
   ],
   "source": [
    "# Need to drop file from RAVDESS that is too short after noise level detection\n",
    "# This file causes problems in testing\n",
    "\n",
    "test[test['length'] == test['length'].min()]"
   ]
  },
  {
   "cell_type": "code",
   "execution_count": 6,
   "metadata": {},
   "outputs": [],
   "source": [
    "test.drop(index = 1010, inplace = True)"
   ]
  },
  {
   "cell_type": "code",
   "execution_count": 8,
   "metadata": {},
   "outputs": [],
   "source": [
    "# Class distribution in training set\n",
    "class_dist = train['emotion'].value_counts()\n",
    "\n",
    "# As probability\n",
    "prob_dist = class_dist / class_dist.sum()"
   ]
  },
  {
   "cell_type": "code",
   "execution_count": 9,
   "metadata": {},
   "outputs": [],
   "source": [
    "classes = pd.DataFrame({'emotion': ['neutral', 'happy', 'sad', 'angry', 'fearful', 'disgusted', 'surprised']})"
   ]
  },
  {
   "cell_type": "code",
   "execution_count": 10,
   "metadata": {},
   "outputs": [],
   "source": [
    "# Create a configuration class to help if I want to change parameters later\n",
    "\n",
    "class Config:\n",
    "    def __init__(self, n_mfcc = 26, n_feat = 13, n_fft = 552, sr = 22050, window = 0.4, test_shift = 0.1):\n",
    "        self.n_mfcc = n_mfcc\n",
    "        self.n_feat = n_feat\n",
    "        self.n_fft = n_fft\n",
    "        self.sr = sr\n",
    "        self.window = window\n",
    "        self.step = int(sr * window)\n",
    "        self.test_shift = test_shift\n",
    "        self.shift = int(sr * test_shift)\n",
    "        \n",
    "config = Config()"
   ]
  },
  {
   "cell_type": "code",
   "execution_count": 69,
   "metadata": {},
   "outputs": [],
   "source": [
    "#### This function doesn't scale audio files properly ####\n",
    "#### Use build_train_feats() instead                  ####\n",
    "\n",
    "\n",
    "# def build_rand_feat():\n",
    "#     '''\n",
    "#     This function collects n_samples of audio. Each sample is of length config.window and picked randomly from the training set.\n",
    "#     '''\n",
    "#     X = [] # list for each sample features\n",
    "#     y = [] # list for each sample label\n",
    "    \n",
    "#     # initialize min and max values, use for scaling later\n",
    "#     _min, _max = float('inf'), -float('inf')\n",
    "    \n",
    "#     # iterate through number of samples\n",
    "#     for _ in tqdm(range(n_samples)):\n",
    "        \n",
    "#         # choose a random class\n",
    "#         rand_class = np.random.choice(prob_dist.index, p = prob_dist)\n",
    "        \n",
    "#         # choose a random file in class\n",
    "#         file_ind = np.random.choice(train[train['emotion'] == rand_class].index)\n",
    "#         #print(file_ind)\n",
    "        \n",
    "#         wav, sr = librosa.load(train.loc[file_ind, 'filename'])                      # load file\n",
    "#         label = train.loc[file_ind, 'emotion']                                       # pull class label\n",
    "#         #print(label)\n",
    "#         rand_ind = np.random.randint(0, wav.shape[0] - config.step)                  # choose random starting point for window\n",
    "#         sample = wav[rand_ind: rand_ind + config.step]                               # create windowed sample\n",
    "        \n",
    "#         # Create 13 mfccs from X_sample at 0.025s intervals (0.025s determined by config.n_fft)\n",
    "#         X_sample = librosa.feature.mfcc(sample, sr, n_mfcc = config.n_mfcc, n_fft = config.n_fft,\n",
    "#                                         hop_length = config.n_fft)[1:config.n_feat + 1]\n",
    "        \n",
    "#         _min = min(np.amin(X_sample), _min)\n",
    "#         _max = max(np.amax(X_sample), _max) # check min and max values\n",
    "#         X.append(X_sample) # append sample to X\n",
    "#         y.append(classes[classes['emotion'] == label].index[0]) # append label to y (as 0, 7 value)\n",
    "        \n",
    "#     X, y = np.array(X), np.array(y)\n",
    "#     X = (X - _min)/(_max - _min) # scale X data such that it is all between 0 and 1\n",
    "#     X = X.reshape(X.shape[0], X.shape[1], X.shape[2], 1) # need to add this 1 for the CNN\n",
    "#     y = to_categorical(y, num_classes = 8) # one hot y\n",
    "    \n",
    "#     return X, y"
   ]
  },
  {
   "cell_type": "code",
   "execution_count": 425,
   "metadata": {},
   "outputs": [],
   "source": [
    "def build_train_feats():\n",
    "    X = []\n",
    "    y = []\n",
    "    \n",
    "    for row in train.iterrows():\n",
    "        \n",
    "        # Initialize min and max values for each file for scaling\n",
    "        _min, _max = float('inf'), -float('inf')\n",
    "        \n",
    "        # Load the file\n",
    "        wav, sr = librosa.load(row[1]['filename'])\n",
    "        \n",
    "        # Create an array to hold features for each window generated from specific file\n",
    "        Xf = []\n",
    "        \n",
    "        # Create randomly selected 0.4s windows from each file. Select 1 random window for every 0.1s of audio in file.\n",
    "        \n",
    "        n_samples =  int(10 * float(row[1]['length'])) \n",
    "              \n",
    "        for i in range(n_samples):\n",
    "            \n",
    "            # Get the numerical label for the emotion of the file\n",
    "            # This needs to be in for loop so that y.shape and X.shape match up\n",
    "            y.append(classes[classes['emotion'] == row[1]['emotion']].index[0])\n",
    "            \n",
    "            # choose random starting point for window\n",
    "            rand_ind = np.random.randint(0, wav.shape[0] - config.step)\n",
    "            # create windowed sample\n",
    "            X_sample = wav[rand_ind: rand_ind + config.step]\n",
    "            # generate mfccs from sample\n",
    "            X_mfccs = librosa.feature.mfcc(X_sample, sr, n_mfcc = config.n_mfcc, n_fft = config.n_fft,\n",
    "                                            hop_length = config.n_fft)[1:config.n_feat + 1]\n",
    "             # check min and max values\n",
    "            _min = min(np.amin(X_mfccs), _min)\n",
    "            _max = max(np.amax(X_mfccs), _max)\n",
    "            # add features of window to X\n",
    "            Xf.append(X_mfccs)\n",
    "        \n",
    "        # Put window data for file into array and scale\n",
    "        Xf = np.array(Xf)\n",
    "        Xf = (Xf - _min) / (_max - _min)\n",
    "        \n",
    "        # Now that data is scaled, pick out each window from Xf and add that to X\n",
    "        for ar in Xf:\n",
    "            X.append(ar)\n",
    "        \n",
    "    \n",
    "    # Once windows have been taken from every file reshape X\n",
    "    X = np.array(X)\n",
    "    X = X.reshape(X.shape[0], X.shape[1], X.shape[2], 1)\n",
    "    y = to_categorical(y, num_classes = 7)\n",
    "    \n",
    "    return X, y"
   ]
  },
  {
   "cell_type": "code",
   "execution_count": 426,
   "metadata": {},
   "outputs": [],
   "source": [
    "X, y = build_train_feats()"
   ]
  },
  {
   "cell_type": "code",
   "execution_count": 427,
   "metadata": {},
   "outputs": [],
   "source": [
    "y_flat = np.argmax(y, axis = 1)\n",
    "class_weight = compute_class_weight('balanced', np.unique(y_flat), y_flat) # This will assign slightly more weight to the neutral class\n",
    "\n",
    "input_shape = (X.shape[1], X.shape[2], 1) # Required input shape for CNN"
   ]
  },
  {
   "cell_type": "code",
   "execution_count": 428,
   "metadata": {},
   "outputs": [],
   "source": [
    "# Function to define CNN\n",
    "\n",
    "def create_cnn():\n",
    "    model = Sequential()\n",
    "    model.add(Conv2D(16, (3,3), activation = 'relu', strides = (1,1), padding = 'same', input_shape = input_shape))\n",
    "    model.add(Conv2D(32, (3,3), activation = 'relu', strides = (1,1), padding = 'same'))\n",
    "    model.add(Conv2D(64, (3,3), activation = 'relu', strides = (1,1), padding = 'same'))\n",
    "    model.add(Conv2D(128, (3,3), activation = 'relu', strides = (1,1), padding = 'same'))\n",
    "    model.add(MaxPool2D((2,2)))\n",
    "    model.add(Dropout(0.5))\n",
    "    model.add(Flatten())\n",
    "    model.add(Dense(128, activation ='relu'))\n",
    "    model.add(Dense(64, activation ='relu'))\n",
    "    model.add(Dense(7, activation ='softmax'))\n",
    "    model.summary()\n",
    "    model.compile(loss = 'categorical_crossentropy', optimizer = 'adam', metrics = ['acc'])\n",
    "    return model\n",
    "    "
   ]
  },
  {
   "cell_type": "code",
   "execution_count": 429,
   "metadata": {},
   "outputs": [
    {
     "name": "stdout",
     "output_type": "stream",
     "text": [
      "_________________________________________________________________\n",
      "Layer (type)                 Output Shape              Param #   \n",
      "=================================================================\n",
      "conv2d_33 (Conv2D)           (None, 13, 16, 16)        160       \n",
      "_________________________________________________________________\n",
      "conv2d_34 (Conv2D)           (None, 13, 16, 32)        4640      \n",
      "_________________________________________________________________\n",
      "conv2d_35 (Conv2D)           (None, 13, 16, 64)        18496     \n",
      "_________________________________________________________________\n",
      "conv2d_36 (Conv2D)           (None, 13, 16, 128)       73856     \n",
      "_________________________________________________________________\n",
      "max_pooling2d_9 (MaxPooling2 (None, 6, 8, 128)         0         \n",
      "_________________________________________________________________\n",
      "dropout_9 (Dropout)          (None, 6, 8, 128)         0         \n",
      "_________________________________________________________________\n",
      "flatten_9 (Flatten)          (None, 6144)              0         \n",
      "_________________________________________________________________\n",
      "dense_25 (Dense)             (None, 128)               786560    \n",
      "_________________________________________________________________\n",
      "dense_26 (Dense)             (None, 64)                8256      \n",
      "_________________________________________________________________\n",
      "dense_27 (Dense)             (None, 7)                 455       \n",
      "=================================================================\n",
      "Total params: 892,423\n",
      "Trainable params: 892,423\n",
      "Non-trainable params: 0\n",
      "_________________________________________________________________\n",
      "Epoch 1/25\n",
      "74588/74588 [==============================] - 154s 2ms/step - loss: 1.3473 - acc: 0.4727\n",
      "Epoch 2/25\n",
      "74588/74588 [==============================] - 154s 2ms/step - loss: 0.9598 - acc: 0.6363\n",
      "Epoch 3/25\n",
      "74588/74588 [==============================] - 153s 2ms/step - loss: 0.8571 - acc: 0.6771\n",
      "Epoch 4/25\n",
      "74588/74588 [==============================] - 2217s 30ms/step - loss: 0.7931 - acc: 0.7019\n",
      "Epoch 5/25\n",
      "74588/74588 [==============================] - 159s 2ms/step - loss: 0.7430 - acc: 0.7219\n",
      "Epoch 6/25\n",
      "74588/74588 [==============================] - 171s 2ms/step - loss: 0.6986 - acc: 0.7382\n",
      "Epoch 7/25\n",
      "74588/74588 [==============================] - 175s 2ms/step - loss: 0.6632 - acc: 0.7519\n",
      "Epoch 8/25\n",
      "74588/74588 [==============================] - 165s 2ms/step - loss: 0.6363 - acc: 0.7623\n",
      "Epoch 9/25\n",
      "74588/74588 [==============================] - 150s 2ms/step - loss: 0.6014 - acc: 0.7776\n",
      "Epoch 10/25\n",
      "74588/74588 [==============================] - 167s 2ms/step - loss: 0.5843 - acc: 0.7842\n",
      "Epoch 11/25\n",
      "74588/74588 [==============================] - 168s 2ms/step - loss: 0.5575 - acc: 0.7935\n",
      "Epoch 12/25\n",
      "74588/74588 [==============================] - 170s 2ms/step - loss: 0.5372 - acc: 0.8031\n",
      "Epoch 13/25\n",
      "74588/74588 [==============================] - 174s 2ms/step - loss: 0.5143 - acc: 0.8114\n",
      "Epoch 14/25\n",
      "74588/74588 [==============================] - 166s 2ms/step - loss: 0.4967 - acc: 0.8177\n",
      "Epoch 15/25\n",
      "74588/74588 [==============================] - 162s 2ms/step - loss: 0.4810 - acc: 0.8247\n",
      "Epoch 16/25\n",
      "74588/74588 [==============================] - 852s 11ms/step - loss: 0.4632 - acc: 0.8314\n",
      "Epoch 17/25\n",
      "74588/74588 [==============================] - 170s 2ms/step - loss: 0.4477 - acc: 0.8386\n",
      "Epoch 18/25\n",
      "74588/74588 [==============================] - 175s 2ms/step - loss: 0.4349 - acc: 0.8431\n",
      "Epoch 19/25\n",
      "74588/74588 [==============================] - 164s 2ms/step - loss: 0.4192 - acc: 0.8484\n",
      "Epoch 20/25\n",
      "74588/74588 [==============================] - 165s 2ms/step - loss: 0.4093 - acc: 0.8525\n",
      "Epoch 21/25\n",
      "74588/74588 [==============================] - 170s 2ms/step - loss: 0.3909 - acc: 0.8598\n",
      "Epoch 22/25\n",
      "74588/74588 [==============================] - 152s 2ms/step - loss: 0.3832 - acc: 0.8628\n",
      "Epoch 23/25\n",
      "74588/74588 [==============================] - 160s 2ms/step - loss: 0.3723 - acc: 0.8661\n",
      "Epoch 24/25\n",
      "74588/74588 [==============================] - 167s 2ms/step - loss: 0.3612 - acc: 0.8711\n",
      "Epoch 25/25\n",
      "74588/74588 [==============================] - 173s 2ms/step - loss: 0.3514 - acc: 0.8735\n"
     ]
    },
    {
     "data": {
      "text/plain": [
       "<keras.callbacks.History at 0x1c6f4c1358>"
      ]
     },
     "execution_count": 429,
     "metadata": {},
     "output_type": "execute_result"
    }
   ],
   "source": [
    "# Create the CNN and fit it\n",
    "\n",
    "# model = create_cnn()\n",
    "# model.fit(X, y, epochs = 25, batch_size = 32, shuffle = True, class_weight = class_weight)"
   ]
  },
  {
   "cell_type": "code",
   "execution_count": 13,
   "metadata": {},
   "outputs": [],
   "source": [
    "def test_model(model, input_files):\n",
    "    '''\n",
    "    This function benchmarks the input model against the test set by windowing test file data.\n",
    "    Returns a dataframe of class probabilities, overall predictions, ground truth, and filename.\n",
    "    Also returns accuracy metric.\n",
    "    '''\n",
    "    \n",
    "    # initialize a total results list\n",
    "    all_results = []\n",
    "    \n",
    "    for row in input_files.iterrows():\n",
    "        # Initialize a local results list\n",
    "        local_results = []\n",
    "        \n",
    "        # Initialize min and max values for each file for scaling\n",
    "        _min, _max = float('inf'), -float('inf')\n",
    "        \n",
    "        # Get the numerical label for the emotion of the file\n",
    "        label = classes[classes['emotion'] == row[1]['emotion']].index[0]\n",
    "        \n",
    "        # Load the file\n",
    "        wav, sr = librosa.load(row[1]['filename'])\n",
    "        \n",
    "        # Create an array to hold features for each window\n",
    "        X = []\n",
    "        \n",
    "        # Iterate over sliding 0.4s windows of the audio file\n",
    "        for i in range(int((wav.shape[0]/sr-config.window)/config.test_shift)):\n",
    "            X_sample = wav[i*config.shift: i*config.shift + config.step] # slice out 0.4s window\n",
    "            X_mfccs = librosa.feature.mfcc(X_sample, sr, n_mfcc = config.n_mfcc, n_fft = config.n_fft,\n",
    "                                            hop_length = config.n_fft)[1:config.n_feat + 1] # generate mfccs from sample\n",
    "            \n",
    "            _min = min(np.amin(X_mfccs), _min)\n",
    "            _max = max(np.amax(X_mfccs), _max) # check min and max values\n",
    "            X.append(X_mfccs) # add features of window to X\n",
    "        \n",
    "        # Put window data into array, scale, then reshape\n",
    "        X = np.array(X)\n",
    "        X = (X - _min) / (_max - _min)\n",
    "        X = X.reshape(X.shape[0], X.shape[1], X.shape[2], 1)\n",
    "        \n",
    "        # Feed data for each window into model for prediction\n",
    "        for i in range(X.shape[0]):\n",
    "            window = X[i].reshape(1, X.shape[1], X.shape[2], 1)\n",
    "            local_results.append(model.predict(window))\n",
    "        \n",
    "        # Aggregate predictions for file into one then append to all_results\n",
    "        local_results = (np.sum(np.array(local_results), axis = 0)/len(local_results))[0]\n",
    "        local_results = list(local_results)\n",
    "        prediction = np.argmax(local_results)\n",
    "        local_results.append(prediction)\n",
    "        local_results.append(label)\n",
    "        local_results.append(row[1]['filename'])\n",
    "        all_results.append(local_results)\n",
    "        \n",
    "    # Turn all results into a dataframe\n",
    "    df_cols = ['neutral', 'happy', 'sad', 'angry', 'fearful', 'disgusted', 'surprised', 'prediction', 'ground_truth', 'filename']\n",
    "    all_results = pd.DataFrame(all_results, columns = df_cols)\n",
    "    \n",
    "    # Compute accuracy\n",
    "    corrects = (all_results['prediction'] == all_results['ground_truth']).value_counts().loc[True]\n",
    "    incorrects = (all_results['prediction'] == all_results['ground_truth']).value_counts().loc[False]\n",
    "    accuracy = corrects / all_results.shape[0]\n",
    "    print(f'Validation Set Accuracy: {accuracy}')\n",
    "\n",
    "    return all_results, accuracy"
   ]
  },
  {
   "cell_type": "code",
   "execution_count": 12,
   "metadata": {},
   "outputs": [
    {
     "name": "stdout",
     "output_type": "stream",
     "text": [
      "WARNING:tensorflow:From /Users/alex/anaconda3/lib/python3.7/site-packages/tensorflow/python/framework/op_def_library.py:263: colocate_with (from tensorflow.python.framework.ops) is deprecated and will be removed in a future version.\n",
      "Instructions for updating:\n",
      "Colocations handled automatically by placer.\n",
      "WARNING:tensorflow:From /Users/alex/anaconda3/lib/python3.7/site-packages/keras/backend/tensorflow_backend.py:3445: calling dropout (from tensorflow.python.ops.nn_ops) with keep_prob is deprecated and will be removed in a future version.\n",
      "Instructions for updating:\n",
      "Please use `rate` instead of `keep_prob`. Rate should be set to `rate = 1 - keep_prob`.\n",
      "WARNING:tensorflow:From /Users/alex/anaconda3/lib/python3.7/site-packages/tensorflow/python/ops/math_ops.py:3066: to_int32 (from tensorflow.python.ops.math_ops) is deprecated and will be removed in a future version.\n",
      "Instructions for updating:\n",
      "Use tf.cast instead.\n"
     ]
    }
   ],
   "source": [
    "model = pickle.load(open('cnn_ep25_mfccOnly_moreData.pkl', 'rb'))"
   ]
  },
  {
   "cell_type": "code",
   "execution_count": 14,
   "metadata": {},
   "outputs": [
    {
     "name": "stdout",
     "output_type": "stream",
     "text": [
      "Validation Set Accuracy: 0.829021372328459\n"
     ]
    }
   ],
   "source": [
    "results, accuracy = test_model(model, test)"
   ]
  },
  {
   "cell_type": "code",
   "execution_count": 15,
   "metadata": {},
   "outputs": [],
   "source": [
    "results.to_csv('test_results.csv')"
   ]
  },
  {
   "cell_type": "code",
   "execution_count": 432,
   "metadata": {},
   "outputs": [
    {
     "data": {
      "text/plain": [
       "0    144\n",
       "2    141\n",
       "5    129\n",
       "4    128\n",
       "3    122\n",
       "6    120\n",
       "1    105\n",
       "Name: prediction, dtype: int64"
      ]
     },
     "execution_count": 432,
     "metadata": {},
     "output_type": "execute_result"
    }
   ],
   "source": [
    "# This version of the model that's been trained on more data is much more accurate on the validation set than the previous version.\n",
    "# 83% vs 67%!!!\n",
    "results['prediction'].value_counts()"
   ]
  },
  {
   "cell_type": "code",
   "execution_count": 433,
   "metadata": {},
   "outputs": [],
   "source": [
    "# This function tells us if our model was close to making correct predictions\n",
    "\n",
    "def is_model_close(results, threshold):\n",
    "    close = []\n",
    "\n",
    "    for row in results.iterrows():\n",
    "        maybes = (row[1][list(classes['emotion'])] > threshold)\n",
    "        close.append(classes.loc[row[1]['ground_truth'], 'emotion'] in list(maybes[maybes == True].index))\n",
    "    \n",
    "    close = pd.DataFrame(close)\n",
    "    \n",
    "    acc = close[0].value_counts()[True]/(results.shape[0])\n",
    "    \n",
    "    print('At threshold of %s accuracy is %s' % (threshold, acc))\n",
    "\n",
    "    return close[0].value_counts()"
   ]
  },
  {
   "cell_type": "code",
   "execution_count": 434,
   "metadata": {},
   "outputs": [
    {
     "name": "stdout",
     "output_type": "stream",
     "text": [
      "At threshold of 0.2 accuracy is 0.8965129358830146\n"
     ]
    },
    {
     "data": {
      "text/plain": [
       "True     797\n",
       "False     92\n",
       "Name: 0, dtype: int64"
      ]
     },
     "execution_count": 434,
     "metadata": {},
     "output_type": "execute_result"
    }
   ],
   "source": [
    "# Seems the model is typically not too far off\n",
    "is_model_close(results, 0.2)"
   ]
  },
  {
   "cell_type": "code",
   "execution_count": 406,
   "metadata": {},
   "outputs": [],
   "source": [
    "def plot_confusion(truth, pred, normalize = True):\n",
    "    cm = confusion_matrix(truth, pred)\n",
    "    \n",
    "    if normalize == True:\n",
    "        cm = cm.astype('float') / cm.sum(axis=1)[:, np.newaxis]\n",
    "    \n",
    "    plt.figure(figsize=(10,8))\n",
    "    sns.heatmap(cm, cmap = 'Blues', annot = True,\n",
    "                xticklabels = classes['emotion'],\n",
    "                yticklabels = classes['emotion'])\n",
    "    plt.xlabel('Prediction')\n",
    "    plt.ylabel('Truth');\n"
   ]
  },
  {
   "cell_type": "code",
   "execution_count": 435,
   "metadata": {},
   "outputs": [
    {
     "data": {
      "image/png": "[encoded data removed]",
      "text/plain": [
       "<Figure size 720x576 with 2 Axes>"
      ]
     },
     "metadata": {
      "needs_background": "light"
     },
     "output_type": "display_data"
    }
   ],
   "source": [
    "plot_confusion(results['ground_truth'], results['prediction'])"
   ]
  },
  {
   "cell_type": "code",
   "execution_count": 436,
   "metadata": {},
   "outputs": [],
   "source": [
    "# Determine confusion matrix for training examples, is it similar to that of the test set?"
   ]
  },
  {
   "cell_type": "code",
   "execution_count": 413,
   "metadata": {},
   "outputs": [],
   "source": [
    "def train_results(X, y, plot = True, normalize = True):\n",
    "    '''\n",
    "    Determine model performance on the training set. Plot a confusion matrix unless plot set to False.\n",
    "    '''\n",
    "    \n",
    "    # Create lists to hold truth and predictions. Initialize counter for correct predictions.\n",
    "    truth = []\n",
    "    pred = []\n",
    "    corrects = 0\n",
    "\n",
    "    # iterate through the list of training examples\n",
    "    for i in range(X.shape[0]):\n",
    "        tr = np.argmax(y[i]) # determine truth\n",
    "        truth.append(tr)\n",
    "        train_point = X[i].reshape(1, X.shape[1], X.shape[2], 1)\n",
    "        pr = np.argmax(model.predict(train_point)) # make prediction\n",
    "        pred.append(pr)\n",
    "        \n",
    "        # increment counter if correct\n",
    "        if pr == tr:\n",
    "            corrects += 1 \n",
    "    \n",
    "    # determine accuracy from number of correct predictions\n",
    "    accuracy = corrects / X.shape[0]\n",
    "    \n",
    "    # plot confusion matrix using previously defined function\n",
    "    if plot == True:\n",
    "        plot_confusion(truth, pred, normalize = normalize)\n",
    "    \n",
    "    return accuracy\n",
    "    \n",
    "    "
   ]
  },
  {
   "cell_type": "code",
   "execution_count": 437,
   "metadata": {},
   "outputs": [
    {
     "name": "stdout",
     "output_type": "stream",
     "text": [
      "0.9468815359038988\n"
     ]
    },
    {
     "data": {
      "image/png": "[encoded data removed]",
      "text/plain": [
       "<Figure size 720x576 with 2 Axes>"
      ]
     },
     "metadata": {
      "needs_background": "light"
     },
     "output_type": "display_data"
    }
   ],
   "source": [
    "# Model is very accurate on the training set, no surprise here.\n",
    "acc = train_results(X, y)\n",
    "print(acc)"
   ]
  },
  {
   "cell_type": "code",
   "execution_count": 439,
   "metadata": {},
   "outputs": [],
   "source": [
    "pickle.dump(model, open('cnn_ep25_mfccOnly_moreData1.pkl', 'wb'))"
   ]
  },
  {
   "cell_type": "code",
   "execution_count": null,
   "metadata": {},
   "outputs": [],
   "source": []
  }
 ],
 "metadata": {
  "kernelspec": {
   "display_name": "Python 3 (ipykernel)",
   "language": "python",
   "name": "python3"
  },
  "language_info": {
   "codemirror_mode": {
    "name": "ipython",
    "version": 3
   },
   "file_extension": ".py",
   "mimetype": "text/x-python",
   "name": "python",
   "nbconvert_exporter": "python",
   "pygments_lexer": "ipython3",
   "version": "3.12.4"
  }
 },
 "nbformat": 4,
 "nbformat_minor": 4
}
