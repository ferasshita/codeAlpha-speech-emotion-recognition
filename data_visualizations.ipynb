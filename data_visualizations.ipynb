{
 "cells": [
  {
   "cell_type": "code",
   "execution_count": 7,
   "metadata": {},
   "outputs": [],
   "source": [
    "import pandas as pd\n",
    "import numpy as np\n",
    "import librosa\n",
    "import librosa.display\n",
    "\n",
    "import seaborn as sns\n",
    "import matplotlib.pyplot as plt\n",
    "%matplotlib inline\n",
    "\n",
    "from bokeh.plotting import figure, show\n",
    "from bokeh.embed import components\n",
    "from bokeh.models import CategoricalColorMapper, HoverTool \n"
   ]
  },
  {
   "cell_type": "code",
   "execution_count": 2,
   "metadata": {},
   "outputs": [],
   "source": [
    "# Need a function to remove dead space from audio files\n",
    "# Checks a rolling average of signal over 1/10 sec and compares to threshold\n",
    "# Returns a mask of True and False values that can be used to filter audio signals\n",
    "\n",
    "def envelope(y, sr, threshold):\n",
    "    mask = []\n",
    "    y_abs = pd.Series(y).apply(np.abs)\n",
    "    y_mean = y_abs.rolling(window = int(sr/10), min_periods = 1, center = True).mean()\n",
    "    for mean in y_mean:\n",
    "        if mean > threshold:\n",
    "            mask.append(True)\n",
    "        else:\n",
    "            mask.append(False)\n",
    "    return np.array(y[mask])"
   ]
  },
  {
   "cell_type": "code",
   "execution_count": 23,
   "metadata": {},
   "outputs": [],
   "source": [
    "# Actor 1, male, very happy\n",
    "filename = 'RAVDESS/Actor_01/03-01-03-02-01-01-01.wav'\n",
    "\n",
    "y, sr = librosa.load(filename)\n",
    "\n",
    "y = envelope(y1, sr, 0.0005)\n",
    "\n",
    "mfcc = librosa.feature.mfcc(y1,sr,n_mfcc = 26, n_fft = 552, hop_length = 552)\n",
    "\n",
    "mfcc = mfcc[1:14, 0:16]\n",
    "\n",
    "# plt.figure(figsize=(6, 4))\n",
    "# librosa.display.specshow(mfcc, x_axis='time', cmap = 'GnBu', linewidth = 1)\n",
    "# plt.colorbar()\n",
    "# plt.title('MFCC')\n",
    "# plt.tight_layout()\n",
    "# plt.show();"
   ]
  },
  {
   "cell_type": "code",
   "execution_count": 33,
   "metadata": {},
   "outputs": [
    {
     "data": {
      "image/png": "[encoded data removed]",
      "text/plain": [
       "<Figure size 432x288 with 2 Axes>"
      ]
     },
     "metadata": {
      "needs_background": "light"
     },
     "output_type": "display_data"
    }
   ],
   "source": [
    "# Put this into a heatmap\n",
    "_min = np.amin(mfcc)\n",
    "_max = np.amax(mfcc)\n",
    "mfcc = (mfcc - _min) / (_max - _min)\n",
    "\n",
    "\n",
    "plt.figure(figsize = (6,4))\n",
    "sns.heatmap(mfcc, cmap = 'GnBu', linewidth = 1)\n",
    "plt.axis('off')\n",
    "plt.savefig('figures/mfccs.png')"
   ]
  },
  {
   "cell_type": "code",
   "execution_count": 125,
   "metadata": {},
   "outputs": [
    {
     "data": {
      "image/png": "[encoded data removed]",
      "text/plain": [
       "<Figure size 432x288 with 1 Axes>"
      ]
     },
     "metadata": {},
     "output_type": "display_data"
    }
   ],
   "source": [
    "# Show the waveform without noise-floor detection\n",
    "y, sr = librosa.load(filename)\n",
    "\n",
    "plt.figure(figsize=(6,4))\n",
    "librosa.display.waveplot(y, sr)\n",
    "plt.yticks([])\n",
    "plt.tight_layout()\n",
    "plt.savefig('figures/waveform.png')"
   ]
  },
  {
   "cell_type": "code",
   "execution_count": 46,
   "metadata": {},
   "outputs": [
    {
     "data": {
      "text/html": [
       "<div>\n",
       "<style scoped>\n",
       "    .dataframe tbody tr th:only-of-type {\n",
       "        vertical-align: middle;\n",
       "    }\n",
       "\n",
       "    .dataframe tbody tr th {\n",
       "        vertical-align: top;\n",
       "    }\n",
       "\n",
       "    .dataframe thead th {\n",
       "        text-align: right;\n",
       "    }\n",
       "</style>\n",
       "<table border=\"1\" class=\"dataframe\">\n",
       "  <thead>\n",
       "    <tr style=\"text-align: right;\">\n",
       "      <th></th>\n",
       "      <th>emotion</th>\n",
       "    </tr>\n",
       "  </thead>\n",
       "  <tbody>\n",
       "    <tr>\n",
       "      <th>0</th>\n",
       "      <td>neutral</td>\n",
       "    </tr>\n",
       "    <tr>\n",
       "      <th>1</th>\n",
       "      <td>happy</td>\n",
       "    </tr>\n",
       "    <tr>\n",
       "      <th>2</th>\n",
       "      <td>sad</td>\n",
       "    </tr>\n",
       "    <tr>\n",
       "      <th>3</th>\n",
       "      <td>angry</td>\n",
       "    </tr>\n",
       "    <tr>\n",
       "      <th>4</th>\n",
       "      <td>fearful</td>\n",
       "    </tr>\n",
       "    <tr>\n",
       "      <th>5</th>\n",
       "      <td>disgusted</td>\n",
       "    </tr>\n",
       "    <tr>\n",
       "      <th>6</th>\n",
       "      <td>surprised</td>\n",
       "    </tr>\n",
       "  </tbody>\n",
       "</table>\n",
       "</div>"
      ],
      "text/plain": [
       "     emotion\n",
       "0    neutral\n",
       "1      happy\n",
       "2        sad\n",
       "3      angry\n",
       "4    fearful\n",
       "5  disgusted\n",
       "6  surprised"
      ]
     },
     "execution_count": 46,
     "metadata": {},
     "output_type": "execute_result"
    }
   ],
   "source": [
    "classes = pd.DataFrame({'emotion': ['neutral', 'happy', 'sad', 'angry', 'fearful', 'disgusted', 'surprised']})\n",
    "classes"
   ]
  },
  {
   "cell_type": "code",
   "execution_count": 37,
   "metadata": {},
   "outputs": [],
   "source": [
    "results = pd.read_csv('test_results.csv')\n",
    "\n",
    "results.drop(columns = 'Unnamed: 0', inplace = True)"
   ]
  },
  {
   "cell_type": "code",
   "execution_count": 40,
   "metadata": {},
   "outputs": [],
   "source": [
    "results['correct'] = results['prediction'] == results['ground_truth']"
   ]
  },
  {
   "cell_type": "code",
   "execution_count": 51,
   "metadata": {
    "scrolled": true
   },
   "outputs": [],
   "source": [
    "test_dist = results['ground_truth'].value_counts()\n",
    "correct_dist = results[results['correct'] == True]['ground_truth'].value_counts()"
   ]
  },
  {
   "cell_type": "code",
   "execution_count": 100,
   "metadata": {},
   "outputs": [],
   "source": [
    "total_acc = results[results['correct'] == True].shape[0] / results.shape[0]\n",
    "\n",
    "acc = []\n",
    "\n",
    "for i in range(7):\n",
    "    acc.append(correct_dist[i] / test_dist[i])\n",
    "\n",
    "acc = acc\n",
    "acc = [round(x*100,2) for x in acc]\n",
    "emotions = ['Neutral', 'Happy', 'Sad', 'Angry', 'Fearful', 'Disgusted', 'Surprised']\n",
    "\n",
    "df_acc = pd.DataFrame({'emotion': emotions, 'accuracy': acc})\n",
    "df_acc.sort_values(by = 'accuracy', ascending = False, inplace = True)\n",
    "\n",
    "emos = list(df_acc['emotion']) + ['Total']\n",
    "accs = list(df_acc['accuracy']) + [100*total_acc]"
   ]
  },
  {
   "cell_type": "code",
   "execution_count": 112,
   "metadata": {},
   "outputs": [
    {
     "data": {
      "image/png": "[encoded data removed]",
      "text/plain": [
       "<Figure size 720x288 with 1 Axes>"
      ]
     },
     "metadata": {},
     "output_type": "display_data"
    }
   ],
   "source": [
    "plt.figure(figsize=(10,4))\n",
    "sns.set(style = 'white')\n",
    "sns.set_context('talk')\n",
    "sns.barplot(emos, accs, palette = ['#1f77b4','#1f77b4','#1f77b4','#1f77b4','#1f77b4',\n",
    "                                   '#1f77b4','#1f77b4','#ff7f0e'])\n",
    "sns.despine()\n",
    "plt.ylim((0,100))\n",
    "#plt.xlabel('Emotions')\n",
    "#plt.xticks(rotation = 75)\n",
    "plt.ylabel('Accuracy (%)')\n",
    "plt.tight_layout()\n",
    "plt.savefig('figures/model_accuracy');"
   ]
  },
  {
   "cell_type": "code",
   "execution_count": 90,
   "metadata": {},
   "outputs": [
    {
     "data": {
      "text/html": [
       "<div>\n",
       "<style scoped>\n",
       "    .dataframe tbody tr th:only-of-type {\n",
       "        vertical-align: middle;\n",
       "    }\n",
       "\n",
       "    .dataframe tbody tr th {\n",
       "        vertical-align: top;\n",
       "    }\n",
       "\n",
       "    .dataframe thead th {\n",
       "        text-align: right;\n",
       "    }\n",
       "</style>\n",
       "<table border=\"1\" class=\"dataframe\">\n",
       "  <thead>\n",
       "    <tr style=\"text-align: right;\">\n",
       "      <th></th>\n",
       "      <th>emotion</th>\n",
       "      <th>accuracy</th>\n",
       "    </tr>\n",
       "  </thead>\n",
       "  <tbody>\n",
       "    <tr>\n",
       "      <th>0</th>\n",
       "      <td>Neutral</td>\n",
       "      <td>92.62</td>\n",
       "    </tr>\n",
       "    <tr>\n",
       "      <th>3</th>\n",
       "      <td>Angry</td>\n",
       "      <td>86.78</td>\n",
       "    </tr>\n",
       "    <tr>\n",
       "      <th>5</th>\n",
       "      <td>Disgusted</td>\n",
       "      <td>85.61</td>\n",
       "    </tr>\n",
       "    <tr>\n",
       "      <th>6</th>\n",
       "      <td>Surprised</td>\n",
       "      <td>81.74</td>\n",
       "    </tr>\n",
       "    <tr>\n",
       "      <th>4</th>\n",
       "      <td>Fearful</td>\n",
       "      <td>80.00</td>\n",
       "    </tr>\n",
       "    <tr>\n",
       "      <th>2</th>\n",
       "      <td>Sad</td>\n",
       "      <td>79.73</td>\n",
       "    </tr>\n",
       "    <tr>\n",
       "      <th>1</th>\n",
       "      <td>Happy</td>\n",
       "      <td>74.14</td>\n",
       "    </tr>\n",
       "  </tbody>\n",
       "</table>\n",
       "</div>"
      ],
      "text/plain": [
       "     emotion  accuracy\n",
       "0    Neutral     92.62\n",
       "3      Angry     86.78\n",
       "5  Disgusted     85.61\n",
       "6  Surprised     81.74\n",
       "4    Fearful     80.00\n",
       "2        Sad     79.73\n",
       "1      Happy     74.14"
      ]
     },
     "execution_count": 90,
     "metadata": {},
     "output_type": "execute_result"
    }
   ],
   "source": [
    "df_acc"
   ]
  },
  {
   "cell_type": "code",
   "execution_count": 81,
   "metadata": {},
   "outputs": [],
   "source": [
    "\n",
    "p = figure(x_range=emotions, plot_height=250, title=\"Accuracy\",\n",
    "           toolbar_location=None, tools=\"\")\n",
    "\n",
    "p.vbar(x = 'emotion', top = 'accuracy', source = df_acc, width = 0.9)\n",
    "\n",
    "p.xgrid.grid_line_color = None\n",
    "p.y_range.start = 0\n",
    "p.y_range.end = 100\n",
    "\n",
    "tooltips = [\n",
    "    (\"Emotion\", \"@emotion\"),\n",
    "    (\"Accuracy\", \"@accuracy\")\n",
    "]\n",
    "\n",
    "hover = HoverTool(tooltips=tooltips)\n",
    "p.add_tools(hover)\n",
    "\n",
    "show(p)"
   ]
  },
  {
   "cell_type": "code",
   "execution_count": null,
   "metadata": {},
   "outputs": [],
   "source": []
  }
 ],
 "metadata": {
  "kernelspec": {
   "display_name": "Python 3 (ipykernel)",
   "language": "python",
   "name": "python3"
  },
  "language_info": {
   "codemirror_mode": {
    "name": "ipython",
    "version": 3
   },
   "file_extension": ".py",
   "mimetype": "text/x-python",
   "name": "python",
   "nbconvert_exporter": "python",
   "pygments_lexer": "ipython3",
   "version": "3.12.4"
  }
 },
 "nbformat": 4,
 "nbformat_minor": 4
}
