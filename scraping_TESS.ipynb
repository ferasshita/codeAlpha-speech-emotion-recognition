{
 "cells": [
  {
   "cell_type": "code",
   "execution_count": 1,
   "metadata": {},
   "outputs": [],
   "source": [
    "import pandas as pd\n",
    "import requests\n",
    "from bs4 import BeautifulSoup"
   ]
  },
  {
   "cell_type": "code",
   "execution_count": 2,
   "metadata": {},
   "outputs": [
    {
     "data": {
      "text/plain": [
       "200"
      ]
     },
     "execution_count": 2,
     "metadata": {},
     "output_type": "execute_result"
    }
   ],
   "source": [
    "url = \"https://tspace.library.utoronto.ca/handle/1807/24487\"\n",
    "response = requests.get(url)\n",
    "response.status_code"
   ]
  },
  {
   "cell_type": "code",
   "execution_count": 3,
   "metadata": {},
   "outputs": [],
   "source": [
    "def make_soup(url):\n",
    "    response = requests.get(url)\n",
    "    code = response.status_code\n",
    "    assert ((code >= 200) & (code < 300))\n",
    "    page = response.text\n",
    "    soup = BeautifulSoup(page, 'lxml')\n",
    "    return soup"
   ]
  },
  {
   "cell_type": "code",
   "execution_count": 41,
   "metadata": {},
   "outputs": [],
   "source": [
    "soup = make_soup(url)\n",
    "\n",
    "strongs = soup.find_all('strong')[1:]\n",
    "\n",
    "hrefs = [x.find('a', href = True)['href'] for x in strongs]"
   ]
  },
  {
   "cell_type": "code",
   "execution_count": 42,
   "metadata": {},
   "outputs": [
    {
     "data": {
      "text/plain": [
       "['/handle/1807/24501',\n",
       " '/handle/1807/24500',\n",
       " '/handle/1807/24499',\n",
       " '/handle/1807/24498',\n",
       " '/handle/1807/24497',\n",
       " '/handle/1807/24496',\n",
       " '/handle/1807/24495',\n",
       " '/handle/1807/24494',\n",
       " '/handle/1807/24493',\n",
       " '/handle/1807/24492',\n",
       " '/handle/1807/24491',\n",
       " '/handle/1807/24490',\n",
       " '/handle/1807/24489',\n",
       " '/handle/1807/24488']"
      ]
     },
     "execution_count": 42,
     "metadata": {},
     "output_type": "execute_result"
    }
   ],
   "source": [
    "hrefs"
   ]
  },
  {
   "cell_type": "code",
   "execution_count": 62,
   "metadata": {},
   "outputs": [],
   "source": [
    "link_list = []\n",
    "\n",
    "for href in hrefs:\n",
    "    \n",
    "    url = \"https://tspace.library.utoronto.ca\" + href\n",
    "\n",
    "    soup = make_soup(url)\n",
    "\n",
    "    div = soup.find('div', {'class': 'item-files'})\n",
    "    a_tags = div.find_all('a')\n",
    "    links = [x['href'] for x in a_tags]\n",
    "    link_list += links"
   ]
  },
  {
   "cell_type": "code",
   "execution_count": 63,
   "metadata": {},
   "outputs": [],
   "source": [
    "url_list = ['https://tspace.library.utoronto.ca' + x for x in link_list]"
   ]
  },
  {
   "cell_type": "code",
   "execution_count": 65,
   "metadata": {},
   "outputs": [],
   "source": [
    "with open('url_list.txt', 'w') as file:\n",
    "    for url in url_list:\n",
    "        file.write(url + '\\n')\n",
    "    file.close()"
   ]
  },
  {
   "cell_type": "code",
   "execution_count": null,
   "metadata": {},
   "outputs": [],
   "source": [
    "# This will download a 2800 audio files\n",
    "\n",
    "#!wget --input-file=url_list.txt --directory-prefix=TESS/"
   ]
  }
 ],
 "metadata": {
  "kernelspec": {
   "display_name": "Python 3 (ipykernel)",
   "language": "python",
   "name": "python3"
  },
  "language_info": {
   "codemirror_mode": {
    "name": "ipython",
    "version": 3
   },
   "file_extension": ".py",
   "mimetype": "text/x-python",
   "name": "python",
   "nbconvert_exporter": "python",
   "pygments_lexer": "ipython3",
   "version": "3.12.4"
  }
 },
 "nbformat": 4,
 "nbformat_minor": 4
}
